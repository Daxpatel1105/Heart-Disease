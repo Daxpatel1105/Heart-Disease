{
  "nbformat": 4,
  "nbformat_minor": 0,
  "metadata": {
    "colab": {
      "name": "Heart Disease _sri",
      "provenance": [],
      "collapsed_sections": [],
      "authorship_tag": "ABX9TyOm0zjitCaxJMXRj991yPTZ",
      "include_colab_link": true
    },
    "kernelspec": {
      "name": "python3",
      "display_name": "Python 3"
    }
  },
  "cells": [
    {
      "cell_type": "markdown",
      "metadata": {
        "id": "view-in-github",
        "colab_type": "text"
      },
      "source": [
        "<a href=\"https://colab.research.google.com/github/Daxpatel1105/Heart-Disease-Detection-using-Machine-learning-Models/blob/master/Heart_Disease__sri.ipynb\" target=\"_parent\"><img src=\"https://colab.research.google.com/assets/colab-badge.svg\" alt=\"Open In Colab\"/></a>"
      ]
    },
    {
      "cell_type": "code",
      "metadata": {
        "id": "b98HwsqjNldv",
        "colab_type": "code",
        "colab": {}
      },
      "source": [
        "import numpy as np\n",
        "import pandas as pd\n",
        "import matplotlib.pyplot as plt\n",
        "import seaborn as sns\n",
        "from sklearn.model_selection import train_test_split\n",
        "from keras.models import Sequential\n",
        "from keras.layers import Conv2D, MaxPooling2D\n",
        "from keras.layers import Activation, Dropout, Flatten, Dense\n",
        "import keras\n",
        "from keras.models import Sequential\n",
        "from keras.layers import Dense\n",
        "import warnings"
      ],
      "execution_count": 44,
      "outputs": []
    },
    {
      "cell_type": "code",
      "metadata": {
        "id": "GiJ71hkpBDG8",
        "colab_type": "code",
        "colab": {
          "base_uri": "https://localhost:8080/",
          "height": 34
        },
        "outputId": "373f840c-c9a3-46bc-db20-b2976697fcb1"
      },
      "source": [
        "from google.colab import drive \n",
        "drive.mount('/content/gdrive')"
      ],
      "execution_count": 45,
      "outputs": [
        {
          "output_type": "stream",
          "text": [
            "Drive already mounted at /content/gdrive; to attempt to forcibly remount, call drive.mount(\"/content/gdrive\", force_remount=True).\n"
          ],
          "name": "stdout"
        }
      ]
    },
    {
      "cell_type": "code",
      "metadata": {
        "id": "_TC4-6MUBmDd",
        "colab_type": "code",
        "colab": {}
      },
      "source": [
        "import pandas as pd \n",
        "df=pd.read_csv('gdrive/My Drive/Heart.csv')"
      ],
      "execution_count": 90,
      "outputs": []
    },
    {
      "cell_type": "code",
      "metadata": {
        "id": "Gbjix6AABp-5",
        "colab_type": "code",
        "colab": {
          "base_uri": "https://localhost:8080/",
          "height": 204
        },
        "outputId": "70f462d4-3d0b-4bfe-f833-6b033edcb15e"
      },
      "source": [
        "df.head()"
      ],
      "execution_count": 91,
      "outputs": [
        {
          "output_type": "execute_result",
          "data": {
            "text/html": [
              "<div>\n",
              "<style scoped>\n",
              "    .dataframe tbody tr th:only-of-type {\n",
              "        vertical-align: middle;\n",
              "    }\n",
              "\n",
              "    .dataframe tbody tr th {\n",
              "        vertical-align: top;\n",
              "    }\n",
              "\n",
              "    .dataframe thead th {\n",
              "        text-align: right;\n",
              "    }\n",
              "</style>\n",
              "<table border=\"1\" class=\"dataframe\">\n",
              "  <thead>\n",
              "    <tr style=\"text-align: right;\">\n",
              "      <th></th>\n",
              "      <th>age</th>\n",
              "      <th>sex</th>\n",
              "      <th>cp</th>\n",
              "      <th>trestbps</th>\n",
              "      <th>chol</th>\n",
              "      <th>fbs</th>\n",
              "      <th>restecg</th>\n",
              "      <th>thalach</th>\n",
              "      <th>exang</th>\n",
              "      <th>oldpeak</th>\n",
              "      <th>slope</th>\n",
              "      <th>ca</th>\n",
              "      <th>thal</th>\n",
              "      <th>target</th>\n",
              "    </tr>\n",
              "  </thead>\n",
              "  <tbody>\n",
              "    <tr>\n",
              "      <th>0</th>\n",
              "      <td>63</td>\n",
              "      <td>1</td>\n",
              "      <td>3</td>\n",
              "      <td>145</td>\n",
              "      <td>233</td>\n",
              "      <td>1</td>\n",
              "      <td>0</td>\n",
              "      <td>150</td>\n",
              "      <td>0</td>\n",
              "      <td>2.3</td>\n",
              "      <td>0</td>\n",
              "      <td>0</td>\n",
              "      <td>1</td>\n",
              "      <td>1</td>\n",
              "    </tr>\n",
              "    <tr>\n",
              "      <th>1</th>\n",
              "      <td>37</td>\n",
              "      <td>1</td>\n",
              "      <td>2</td>\n",
              "      <td>130</td>\n",
              "      <td>250</td>\n",
              "      <td>0</td>\n",
              "      <td>1</td>\n",
              "      <td>187</td>\n",
              "      <td>0</td>\n",
              "      <td>3.5</td>\n",
              "      <td>0</td>\n",
              "      <td>0</td>\n",
              "      <td>2</td>\n",
              "      <td>1</td>\n",
              "    </tr>\n",
              "    <tr>\n",
              "      <th>2</th>\n",
              "      <td>41</td>\n",
              "      <td>0</td>\n",
              "      <td>1</td>\n",
              "      <td>130</td>\n",
              "      <td>204</td>\n",
              "      <td>0</td>\n",
              "      <td>0</td>\n",
              "      <td>172</td>\n",
              "      <td>0</td>\n",
              "      <td>1.4</td>\n",
              "      <td>2</td>\n",
              "      <td>0</td>\n",
              "      <td>2</td>\n",
              "      <td>1</td>\n",
              "    </tr>\n",
              "    <tr>\n",
              "      <th>3</th>\n",
              "      <td>56</td>\n",
              "      <td>1</td>\n",
              "      <td>1</td>\n",
              "      <td>120</td>\n",
              "      <td>236</td>\n",
              "      <td>0</td>\n",
              "      <td>1</td>\n",
              "      <td>178</td>\n",
              "      <td>0</td>\n",
              "      <td>0.8</td>\n",
              "      <td>2</td>\n",
              "      <td>0</td>\n",
              "      <td>2</td>\n",
              "      <td>1</td>\n",
              "    </tr>\n",
              "    <tr>\n",
              "      <th>4</th>\n",
              "      <td>57</td>\n",
              "      <td>0</td>\n",
              "      <td>0</td>\n",
              "      <td>120</td>\n",
              "      <td>354</td>\n",
              "      <td>0</td>\n",
              "      <td>1</td>\n",
              "      <td>163</td>\n",
              "      <td>1</td>\n",
              "      <td>0.6</td>\n",
              "      <td>2</td>\n",
              "      <td>0</td>\n",
              "      <td>2</td>\n",
              "      <td>1</td>\n",
              "    </tr>\n",
              "  </tbody>\n",
              "</table>\n",
              "</div>"
            ],
            "text/plain": [
              "   age  sex  cp  trestbps  chol  fbs  ...  exang  oldpeak  slope  ca  thal  target\n",
              "0   63    1   3       145   233    1  ...      0      2.3      0   0     1       1\n",
              "1   37    1   2       130   250    0  ...      0      3.5      0   0     2       1\n",
              "2   41    0   1       130   204    0  ...      0      1.4      2   0     2       1\n",
              "3   56    1   1       120   236    0  ...      0      0.8      2   0     2       1\n",
              "4   57    0   0       120   354    0  ...      1      0.6      2   0     2       1\n",
              "\n",
              "[5 rows x 14 columns]"
            ]
          },
          "metadata": {
            "tags": []
          },
          "execution_count": 91
        }
      ]
    },
    {
      "cell_type": "markdown",
      "metadata": {
        "id": "i1f_TFkxU0Km",
        "colab_type": "text"
      },
      "source": [
        "Cleaveland database.\n",
        "\n",
        "1. Hungarian Institute of Cardiology. Budapest.\n",
        "2. University Hospital, Zurich, Switzerland.\n",
        "3. University Hospital, Basel, Switzerland.\n",
        "4. V.A. Medical Center, Long Beach and Cleveland Clinic Foundation.\n",
        "\n",
        "Our Data contains:\n",
        "\n",
        "   1. age - age in years\n",
        "   2. sex - (1 = male; 0 = female)\n",
        "   3. cp - chest pain type    // categorical values.\n",
        "        0: Typical angina: chest pain related decrease blood supply to the heart\n",
        "        1: Atypical angina: chest pain not related to heart\n",
        "        2: Non-anginal pain: typically esophageal spasms (non heart related)\n",
        "        3: Asymptomatic: chest pain not showing signs of disease\n",
        "   4. trestbps - resting blood pressure (in mm Hg on admission to the hospital) anything above 130-140 is typically cause for concern\n",
        "   5. chol - serum cholestoral in mg/dl\n",
        "            serum = LDL + HDL + .2 * triglycerides\n",
        "            above 200 is cause for concern\n",
        "   6. fbs - (fasting blood sugar > 120 mg/dl) (1 = true; 0 = false)\n",
        "            '>126' mg/dL signals diabetes\n",
        "   7. restecg - resting electrocardiographic results   // categorical values.\n",
        "        0: Nothing to note\n",
        "        1: ST-T Wave abnormality\n",
        "            can range from mild symptoms to severe problems\n",
        "            signals non-normal heart beat\n",
        "        2: Possible or definite left ventricular hypertrophy\n",
        "            Enlarged heart's main pumping chamber\n",
        "   8. thalach - maximum heart rate achieved   \n",
        "   9. exang - exercise induced angina (1 = yes; 0 = no)\n",
        "   \n",
        "  10. oldpeak - ST depression induced by exercise relative to rest looks at stress of heart during excercise unhealthy heart will stress more\n",
        "  11. slope - the slope of the peak exercise ST segment    // categorical values.\n",
        "        0: Upsloping: better heart rate with excercise (uncommon)\n",
        "        1: Flatsloping: minimal change (typical healthy heart)\n",
        "        2: Downslopins: signs of unhealthy heart   \n",
        "  12. ca - number of major vessels (0-3) colored by flourosopy    // categorical values.\n",
        "        colored vessel means the doctor can see the blood passing through\n",
        "        the more blood movement the better (no clots)\n",
        "  13. thal - thalium stress result    // categorical values. \n",
        "        1,3: normal\n",
        "        6: fixed defect: used to be defect but ok now\n",
        "        7: reversable defect: no proper blood movement when excercising\n",
        "  14. target - have disease or not (1=yes, 0=no) (= the predicted attribute)\n"
      ]
    },
    {
      "cell_type": "code",
      "metadata": {
        "id": "QerDJ5V6U_OB",
        "colab_type": "code",
        "colab": {
          "base_uri": "https://localhost:8080/",
          "height": 68
        },
        "outputId": "7730f709-70de-4aaf-db2b-036670ba971e"
      },
      "source": [
        "df.target.value_counts()"
      ],
      "execution_count": 79,
      "outputs": [
        {
          "output_type": "execute_result",
          "data": {
            "text/plain": [
              "1    165\n",
              "0    138\n",
              "Name: target, dtype: int64"
            ]
          },
          "metadata": {
            "tags": []
          },
          "execution_count": 79
        }
      ]
    },
    {
      "cell_type": "code",
      "metadata": {
        "id": "JEF60d5DVAF5",
        "colab_type": "code",
        "colab": {
          "base_uri": "https://localhost:8080/",
          "height": 51
        },
        "outputId": "04e9e2ae-777d-46b5-ff6a-9d12f150c3bd"
      },
      "source": [
        "noofpatientshavingdisease=len(df[df.target==1])\n",
        "noofpatientsnothavingdisease=len(df[df.target==0])\n",
        "totalpatients=len(df.target)\n",
        "print(\"percentage of patients suffering from heart disease: {:.4f}%\".format((noofpatientshavingdisease/totalpatients)*100))\n",
        "print(\"percentage of patients not suffering from heart disease: {:.4f}%\".format((noofpatientsnothavingdisease/totalpatients)*100))\n"
      ],
      "execution_count": 80,
      "outputs": [
        {
          "output_type": "stream",
          "text": [
            "percentage of patients suffering from heart disease: 54.4554%\n",
            "percentage of patients not suffering from heart disease: 45.5446%\n"
          ],
          "name": "stdout"
        }
      ]
    },
    {
      "cell_type": "code",
      "metadata": {
        "id": "WmwWE6stVBna",
        "colab_type": "code",
        "colab": {
          "base_uri": "https://localhost:8080/",
          "height": 279
        },
        "outputId": "2d91e850-1d9e-4ee7-b9ca-503636fd0173"
      },
      "source": [
        "sns.countplot(x=\"sex\",data=df)\n",
        "plt.xlabel(\"0=female,1=male\")\n",
        "plt.show()"
      ],
      "execution_count": 81,
      "outputs": [
        {
          "output_type": "display_data",
          "data": {
            "image/png": "[encoded data removed]",
            "text/plain": [
              "<Figure size 432x288 with 1 Axes>"
            ]
          },
          "metadata": {
            "tags": [],
            "needs_background": "light"
          }
        }
      ]
    },
    {
      "cell_type": "code",
      "metadata": {
        "id": "v3Ee7tWbVEHp",
        "colab_type": "code",
        "colab": {
          "base_uri": "https://localhost:8080/",
          "height": 350
        },
        "outputId": "03e1aa12-bf9d-410f-9e97-cae998ed2820"
      },
      "source": [
        "pd.crosstab(df.sex,df.target).plot(kind=\"bar\",figsize=(10,5))\n",
        "plt.title('Heart Disease Frequency for Sex')\n",
        "plt.xlabel('Sex (0 = Female, 1 = Male)')\n",
        "plt.legend([\"Not having Disease\", \"Having Disease\"])\n",
        "plt.ylabel('Frequency with respect to Sex')\n",
        "plt.xticks(rotation=0)\n",
        "plt.show()"
      ],
      "execution_count": 82,
      "outputs": [
        {
          "output_type": "display_data",
          "data": {
            "image/png": "[encoded data removed]",
            "text/plain": [
              "<Figure size 720x360 with 1 Axes>"
            ]
          },
          "metadata": {
            "tags": [],
            "needs_background": "light"
          }
        }
      ]
    },
    {
      "cell_type": "code",
      "metadata": {
        "id": "_9hS37QQVGES",
        "colab_type": "code",
        "colab": {
          "base_uri": "https://localhost:8080/",
          "height": 352
        },
        "outputId": "f6cee80e-2ad2-4bd5-baee-f0d1f7323e10"
      },
      "source": [
        "pd.crosstab(df.age,df.target).plot(kind=\"bar\",figsize=(20,5))\n",
        "plt.title(\"Heart Disease frequency for ages\")\n",
        "plt.xlabel(\"Ages\")\n",
        "plt.legend([\"Not having Disease\", \"Having Disease\"])\n",
        "plt.ylabel(\"Frequency with respect to ages\")\n",
        "plt.show()"
      ],
      "execution_count": 83,
      "outputs": [
        {
          "output_type": "display_data",
          "data": {
            "image/png": "[encoded data removed]",
            "text/plain": [
              "<Figure size 1440x360 with 1 Axes>"
            ]
          },
          "metadata": {
            "tags": [],
            "needs_background": "light"
          }
        }
      ]
    },
    {
      "cell_type": "code",
      "metadata": {
        "id": "nawUO1B3VHiR",
        "colab_type": "code",
        "colab": {
          "base_uri": "https://localhost:8080/",
          "height": 279
        },
        "outputId": "dbee226e-310f-4ed1-fbc3-26ee9d1a813e"
      },
      "source": [
        "#thalach : (here maximum heart rate)\n",
        "plt.scatter(x=df.age[df.target==1], y=df.thalach[(df.target==1)], c=\"red\")\n",
        "plt.scatter(x=df.age[df.target==0], y=df.thalach[(df.target==0)])\n",
        "plt.legend([\"Disease\", \"Not Disease\"])\n",
        "plt.xlabel(\"Age\")\n",
        "plt.ylabel(\"Maximum Heart Rate\")\n",
        "plt.show()"
      ],
      "execution_count": 84,
      "outputs": [
        {
          "output_type": "display_data",
          "data": {
            "image/png": "[encoded data removed]",
            "text/plain": [
              "<Figure size 432x288 with 1 Axes>"
            ]
          },
          "metadata": {
            "tags": [],
            "needs_background": "light"
          }
        }
      ]
    },
    {
      "cell_type": "code",
      "metadata": {
        "id": "2-rvav-CVI4S",
        "colab_type": "code",
        "colab": {
          "base_uri": "https://localhost:8080/",
          "height": 404
        },
        "outputId": "3a8e5b59-307a-47ce-eaea-bf862bf87139"
      },
      "source": [
        "pd.crosstab(df.fbs,df.target).plot(kind=\"bar\",figsize=(15,6))\n",
        "plt.title('Heart Disease Frequency According To FBS')\n",
        "plt.xlabel('FBS > 120 mg/dl (0 = False, 1 = True)')\n",
        "plt.legend([\"Not having Disease\", \"Having Disease\"])\n",
        "plt.ylabel('Frequency with respect to FBS')\n",
        "plt.xticks(rotation=0)\n",
        "plt.show()"
      ],
      "execution_count": 85,
      "outputs": [
        {
          "output_type": "display_data",
          "data": {
            "image/png": "[encoded data removed]",
            "text/plain": [
              "<Figure size 1080x432 with 1 Axes>"
            ]
          },
          "metadata": {
            "tags": [],
            "needs_background": "light"
          }
        }
      ]
    },
    {
      "cell_type": "code",
      "metadata": {
        "id": "NGKtfqx9VKYS",
        "colab_type": "code",
        "colab": {
          "base_uri": "https://localhost:8080/",
          "height": 513
        },
        "outputId": "4e3d0e3a-d83a-427a-dfc5-f06f36fa8d17"
      },
      "source": [
        "#trestbps(blood pressure)\n",
        "pd.crosstab(df.trestbps,df.target).plot(kind=\"bar\",figsize=(20,8))\n",
        "plt.title('Heart disease according to Blood Pressure')\n",
        "plt.xlabel('Blood pressure')\n",
        "plt.xticks(rotation=0)\n",
        "plt.legend([\"Not having Disease\", \"Having Disease\"])\n",
        "plt.ylabel('Frequency with respect to Blood Pressure')\n",
        "plt.show()"
      ],
      "execution_count": 86,
      "outputs": [
        {
          "output_type": "display_data",
          "data": {
            "image/png": "[encoded data removed]",
            "text/plain": [
              "<Figure size 1440x576 with 1 Axes>"
            ]
          },
          "metadata": {
            "tags": [],
            "needs_background": "light"
          }
        }
      ]
    },
    {
      "cell_type": "code",
      "metadata": {
        "id": "1f8KnwaOVLp6",
        "colab_type": "code",
        "colab": {
          "base_uri": "https://localhost:8080/",
          "height": 404
        },
        "outputId": "16fdc6b6-a19a-463a-ca0b-d2253e8ec713"
      },
      "source": [
        "\n",
        "pd.crosstab(df.restecg,df.target).plot(kind=\"bar\",figsize=(15,6))\n",
        "plt.title('Heart Disease Frequency According To restecg')\n",
        "plt.xlabel('restecg - resting electrocardiographic results ,(0-2)' )\n",
        "plt.xticks(rotation = 0)\n",
        "plt.legend([\"Not having Disease\", \"Having Disease\"])\n",
        "plt.ylabel('Frequency with repect to restecg')\n",
        "plt.show()"
      ],
      "execution_count": 92,
      "outputs": [
        {
          "output_type": "display_data",
          "data": {
            "image/png": "[encoded data removed]",
            "text/plain": [
              "<Figure size 1080x432 with 1 Axes>"
            ]
          },
          "metadata": {
            "tags": [],
            "needs_background": "light"
          }
        }
      ]
    },
    {
      "cell_type": "code",
      "metadata": {
        "id": "V7e04uCJVNPa",
        "colab_type": "code",
        "colab": {
          "base_uri": "https://localhost:8080/",
          "height": 350
        },
        "outputId": "6cd6be14-8faf-4e5a-d5e4-edb38f6b9746"
      },
      "source": [
        "pd.crosstab(df.cp,df.target).plot(kind=\"bar\",figsize=(15,5))\n",
        "plt.title('Heart Disease Frequency According To Chest Pain Type')\n",
        "plt.xlabel('Chest Pain Type ,(0-3)')\n",
        "plt.xticks(rotation = 0)\n",
        "plt.ylabel('Frequency with respect to cp')\n",
        "plt.show()"
      ],
      "execution_count": 93,
      "outputs": [
        {
          "output_type": "display_data",
          "data": {
            "image/png": "[encoded data removed]",
            "text/plain": [
              "<Figure size 1080x360 with 1 Axes>"
            ]
          },
          "metadata": {
            "tags": [],
            "needs_background": "light"
          }
        }
      ]
    },
    {
      "cell_type": "code",
      "metadata": {
        "id": "qMtDUbyMVlfU",
        "colab_type": "code",
        "colab": {}
      },
      "source": [
        "a= pd.get_dummies(df['cp'],prefix=\"cp\")\n",
        "b= pd.get_dummies(df['restecg'],prefix=\"restecg\")\n",
        "c= pd.get_dummies(df['slope'],prefix=\"slope\")\n",
        "d= pd.get_dummies(df['thal'],prefix=\"thal\")\n",
        "e= pd.get_dummies(df['ca'],prefix=\"ca\")"
      ],
      "execution_count": 94,
      "outputs": []
    },
    {
      "cell_type": "code",
      "metadata": {
        "id": "kAS3bASnVm0y",
        "colab_type": "code",
        "colab": {
          "base_uri": "https://localhost:8080/",
          "height": 224
        },
        "outputId": "82fed612-cb9d-4932-b485-49d7db677027"
      },
      "source": [
        "frames=[df,a,b,c,d,e]\n",
        "df=pd.concat(frames,axis=1)\n",
        "df.head()"
      ],
      "execution_count": 95,
      "outputs": [
        {
          "output_type": "execute_result",
          "data": {
            "text/html": [
              "<div>\n",
              "<style scoped>\n",
              "    .dataframe tbody tr th:only-of-type {\n",
              "        vertical-align: middle;\n",
              "    }\n",
              "\n",
              "    .dataframe tbody tr th {\n",
              "        vertical-align: top;\n",
              "    }\n",
              "\n",
              "    .dataframe thead th {\n",
              "        text-align: right;\n",
              "    }\n",
              "</style>\n",
              "<table border=\"1\" class=\"dataframe\">\n",
              "  <thead>\n",
              "    <tr style=\"text-align: right;\">\n",
              "      <th></th>\n",
              "      <th>age</th>\n",
              "      <th>sex</th>\n",
              "      <th>cp</th>\n",
              "      <th>trestbps</th>\n",
              "      <th>chol</th>\n",
              "      <th>fbs</th>\n",
              "      <th>restecg</th>\n",
              "      <th>thalach</th>\n",
              "      <th>exang</th>\n",
              "      <th>oldpeak</th>\n",
              "      <th>slope</th>\n",
              "      <th>ca</th>\n",
              "      <th>thal</th>\n",
              "      <th>target</th>\n",
              "      <th>cp_0</th>\n",
              "      <th>cp_1</th>\n",
              "      <th>cp_2</th>\n",
              "      <th>cp_3</th>\n",
              "      <th>restecg_0</th>\n",
              "      <th>restecg_1</th>\n",
              "      <th>restecg_2</th>\n",
              "      <th>slope_0</th>\n",
              "      <th>slope_1</th>\n",
              "      <th>slope_2</th>\n",
              "      <th>thal_0</th>\n",
              "      <th>thal_1</th>\n",
              "      <th>thal_2</th>\n",
              "      <th>thal_3</th>\n",
              "      <th>ca_0</th>\n",
              "      <th>ca_1</th>\n",
              "      <th>ca_2</th>\n",
              "      <th>ca_3</th>\n",
              "      <th>ca_4</th>\n",
              "    </tr>\n",
              "  </thead>\n",
              "  <tbody>\n",
              "    <tr>\n",
              "      <th>0</th>\n",
              "      <td>63</td>\n",
              "      <td>1</td>\n",
              "      <td>3</td>\n",
              "      <td>145</td>\n",
              "      <td>233</td>\n",
              "      <td>1</td>\n",
              "      <td>0</td>\n",
              "      <td>150</td>\n",
              "      <td>0</td>\n",
              "      <td>2.3</td>\n",
              "      <td>0</td>\n",
              "      <td>0</td>\n",
              "      <td>1</td>\n",
              "      <td>1</td>\n",
              "      <td>0</td>\n",
              "      <td>0</td>\n",
              "      <td>0</td>\n",
              "      <td>1</td>\n",
              "      <td>1</td>\n",
              "      <td>0</td>\n",
              "      <td>0</td>\n",
              "      <td>1</td>\n",
              "      <td>0</td>\n",
              "      <td>0</td>\n",
              "      <td>0</td>\n",
              "      <td>1</td>\n",
              "      <td>0</td>\n",
              "      <td>0</td>\n",
              "      <td>1</td>\n",
              "      <td>0</td>\n",
              "      <td>0</td>\n",
              "      <td>0</td>\n",
              "      <td>0</td>\n",
              "    </tr>\n",
              "    <tr>\n",
              "      <th>1</th>\n",
              "      <td>37</td>\n",
              "      <td>1</td>\n",
              "      <td>2</td>\n",
              "      <td>130</td>\n",
              "      <td>250</td>\n",
              "      <td>0</td>\n",
              "      <td>1</td>\n",
              "      <td>187</td>\n",
              "      <td>0</td>\n",
              "      <td>3.5</td>\n",
              "      <td>0</td>\n",
              "      <td>0</td>\n",
              "      <td>2</td>\n",
              "      <td>1</td>\n",
              "      <td>0</td>\n",
              "      <td>0</td>\n",
              "      <td>1</td>\n",
              "      <td>0</td>\n",
              "      <td>0</td>\n",
              "      <td>1</td>\n",
              "      <td>0</td>\n",
              "      <td>1</td>\n",
              "      <td>0</td>\n",
              "      <td>0</td>\n",
              "      <td>0</td>\n",
              "      <td>0</td>\n",
              "      <td>1</td>\n",
              "      <td>0</td>\n",
              "      <td>1</td>\n",
              "      <td>0</td>\n",
              "      <td>0</td>\n",
              "      <td>0</td>\n",
              "      <td>0</td>\n",
              "    </tr>\n",
              "    <tr>\n",
              "      <th>2</th>\n",
              "      <td>41</td>\n",
              "      <td>0</td>\n",
              "      <td>1</td>\n",
              "      <td>130</td>\n",
              "      <td>204</td>\n",
              "      <td>0</td>\n",
              "      <td>0</td>\n",
              "      <td>172</td>\n",
              "      <td>0</td>\n",
              "      <td>1.4</td>\n",
              "      <td>2</td>\n",
              "      <td>0</td>\n",
              "      <td>2</td>\n",
              "      <td>1</td>\n",
              "      <td>0</td>\n",
              "      <td>1</td>\n",
              "      <td>0</td>\n",
              "      <td>0</td>\n",
              "      <td>1</td>\n",
              "      <td>0</td>\n",
              "      <td>0</td>\n",
              "      <td>0</td>\n",
              "      <td>0</td>\n",
              "      <td>1</td>\n",
              "      <td>0</td>\n",
              "      <td>0</td>\n",
              "      <td>1</td>\n",
              "      <td>0</td>\n",
              "      <td>1</td>\n",
              "      <td>0</td>\n",
              "      <td>0</td>\n",
              "      <td>0</td>\n",
              "      <td>0</td>\n",
              "    </tr>\n",
              "    <tr>\n",
              "      <th>3</th>\n",
              "      <td>56</td>\n",
              "      <td>1</td>\n",
              "      <td>1</td>\n",
              "      <td>120</td>\n",
              "      <td>236</td>\n",
              "      <td>0</td>\n",
              "      <td>1</td>\n",
              "      <td>178</td>\n",
              "      <td>0</td>\n",
              "      <td>0.8</td>\n",
              "      <td>2</td>\n",
              "      <td>0</td>\n",
              "      <td>2</td>\n",
              "      <td>1</td>\n",
              "      <td>0</td>\n",
              "      <td>1</td>\n",
              "      <td>0</td>\n",
              "      <td>0</td>\n",
              "      <td>0</td>\n",
              "      <td>1</td>\n",
              "      <td>0</td>\n",
              "      <td>0</td>\n",
              "      <td>0</td>\n",
              "      <td>1</td>\n",
              "      <td>0</td>\n",
              "      <td>0</td>\n",
              "      <td>1</td>\n",
              "      <td>0</td>\n",
              "      <td>1</td>\n",
              "      <td>0</td>\n",
              "      <td>0</td>\n",
              "      <td>0</td>\n",
              "      <td>0</td>\n",
              "    </tr>\n",
              "    <tr>\n",
              "      <th>4</th>\n",
              "      <td>57</td>\n",
              "      <td>0</td>\n",
              "      <td>0</td>\n",
              "      <td>120</td>\n",
              "      <td>354</td>\n",
              "      <td>0</td>\n",
              "      <td>1</td>\n",
              "      <td>163</td>\n",
              "      <td>1</td>\n",
              "      <td>0.6</td>\n",
              "      <td>2</td>\n",
              "      <td>0</td>\n",
              "      <td>2</td>\n",
              "      <td>1</td>\n",
              "      <td>1</td>\n",
              "      <td>0</td>\n",
              "      <td>0</td>\n",
              "      <td>0</td>\n",
              "      <td>0</td>\n",
              "      <td>1</td>\n",
              "      <td>0</td>\n",
              "      <td>0</td>\n",
              "      <td>0</td>\n",
              "      <td>1</td>\n",
              "      <td>0</td>\n",
              "      <td>0</td>\n",
              "      <td>1</td>\n",
              "      <td>0</td>\n",
              "      <td>1</td>\n",
              "      <td>0</td>\n",
              "      <td>0</td>\n",
              "      <td>0</td>\n",
              "      <td>0</td>\n",
              "    </tr>\n",
              "  </tbody>\n",
              "</table>\n",
              "</div>"
            ],
            "text/plain": [
              "   age  sex  cp  trestbps  chol  fbs  ...  thal_3  ca_0  ca_1  ca_2  ca_3  ca_4\n",
              "0   63    1   3       145   233    1  ...       0     1     0     0     0     0\n",
              "1   37    1   2       130   250    0  ...       0     1     0     0     0     0\n",
              "2   41    0   1       130   204    0  ...       0     1     0     0     0     0\n",
              "3   56    1   1       120   236    0  ...       0     1     0     0     0     0\n",
              "4   57    0   0       120   354    0  ...       0     1     0     0     0     0\n",
              "\n",
              "[5 rows x 33 columns]"
            ]
          },
          "metadata": {
            "tags": []
          },
          "execution_count": 95
        }
      ]
    },
    {
      "cell_type": "code",
      "metadata": {
        "id": "p-NsL6CbVpZj",
        "colab_type": "code",
        "colab": {
          "base_uri": "https://localhost:8080/",
          "height": 224
        },
        "outputId": "94907009-51f8-487b-d08f-73934513d4eb"
      },
      "source": [
        "df = df.drop(columns=['cp','restecg' , 'slope','thal','ca'])\n",
        "df.head()"
      ],
      "execution_count": 96,
      "outputs": [
        {
          "output_type": "execute_result",
          "data": {
            "text/html": [
              "<div>\n",
              "<style scoped>\n",
              "    .dataframe tbody tr th:only-of-type {\n",
              "        vertical-align: middle;\n",
              "    }\n",
              "\n",
              "    .dataframe tbody tr th {\n",
              "        vertical-align: top;\n",
              "    }\n",
              "\n",
              "    .dataframe thead th {\n",
              "        text-align: right;\n",
              "    }\n",
              "</style>\n",
              "<table border=\"1\" class=\"dataframe\">\n",
              "  <thead>\n",
              "    <tr style=\"text-align: right;\">\n",
              "      <th></th>\n",
              "      <th>age</th>\n",
              "      <th>sex</th>\n",
              "      <th>trestbps</th>\n",
              "      <th>chol</th>\n",
              "      <th>fbs</th>\n",
              "      <th>thalach</th>\n",
              "      <th>exang</th>\n",
              "      <th>oldpeak</th>\n",
              "      <th>target</th>\n",
              "      <th>cp_0</th>\n",
              "      <th>cp_1</th>\n",
              "      <th>cp_2</th>\n",
              "      <th>cp_3</th>\n",
              "      <th>restecg_0</th>\n",
              "      <th>restecg_1</th>\n",
              "      <th>restecg_2</th>\n",
              "      <th>slope_0</th>\n",
              "      <th>slope_1</th>\n",
              "      <th>slope_2</th>\n",
              "      <th>thal_0</th>\n",
              "      <th>thal_1</th>\n",
              "      <th>thal_2</th>\n",
              "      <th>thal_3</th>\n",
              "      <th>ca_0</th>\n",
              "      <th>ca_1</th>\n",
              "      <th>ca_2</th>\n",
              "      <th>ca_3</th>\n",
              "      <th>ca_4</th>\n",
              "    </tr>\n",
              "  </thead>\n",
              "  <tbody>\n",
              "    <tr>\n",
              "      <th>0</th>\n",
              "      <td>63</td>\n",
              "      <td>1</td>\n",
              "      <td>145</td>\n",
              "      <td>233</td>\n",
              "      <td>1</td>\n",
              "      <td>150</td>\n",
              "      <td>0</td>\n",
              "      <td>2.3</td>\n",
              "      <td>1</td>\n",
              "      <td>0</td>\n",
              "      <td>0</td>\n",
              "      <td>0</td>\n",
              "      <td>1</td>\n",
              "      <td>1</td>\n",
              "      <td>0</td>\n",
              "      <td>0</td>\n",
              "      <td>1</td>\n",
              "      <td>0</td>\n",
              "      <td>0</td>\n",
              "      <td>0</td>\n",
              "      <td>1</td>\n",
              "      <td>0</td>\n",
              "      <td>0</td>\n",
              "      <td>1</td>\n",
              "      <td>0</td>\n",
              "      <td>0</td>\n",
              "      <td>0</td>\n",
              "      <td>0</td>\n",
              "    </tr>\n",
              "    <tr>\n",
              "      <th>1</th>\n",
              "      <td>37</td>\n",
              "      <td>1</td>\n",
              "      <td>130</td>\n",
              "      <td>250</td>\n",
              "      <td>0</td>\n",
              "      <td>187</td>\n",
              "      <td>0</td>\n",
              "      <td>3.5</td>\n",
              "      <td>1</td>\n",
              "      <td>0</td>\n",
              "      <td>0</td>\n",
              "      <td>1</td>\n",
              "      <td>0</td>\n",
              "      <td>0</td>\n",
              "      <td>1</td>\n",
              "      <td>0</td>\n",
              "      <td>1</td>\n",
              "      <td>0</td>\n",
              "      <td>0</td>\n",
              "      <td>0</td>\n",
              "      <td>0</td>\n",
              "      <td>1</td>\n",
              "      <td>0</td>\n",
              "      <td>1</td>\n",
              "      <td>0</td>\n",
              "      <td>0</td>\n",
              "      <td>0</td>\n",
              "      <td>0</td>\n",
              "    </tr>\n",
              "    <tr>\n",
              "      <th>2</th>\n",
              "      <td>41</td>\n",
              "      <td>0</td>\n",
              "      <td>130</td>\n",
              "      <td>204</td>\n",
              "      <td>0</td>\n",
              "      <td>172</td>\n",
              "      <td>0</td>\n",
              "      <td>1.4</td>\n",
              "      <td>1</td>\n",
              "      <td>0</td>\n",
              "      <td>1</td>\n",
              "      <td>0</td>\n",
              "      <td>0</td>\n",
              "      <td>1</td>\n",
              "      <td>0</td>\n",
              "      <td>0</td>\n",
              "      <td>0</td>\n",
              "      <td>0</td>\n",
              "      <td>1</td>\n",
              "      <td>0</td>\n",
              "      <td>0</td>\n",
              "      <td>1</td>\n",
              "      <td>0</td>\n",
              "      <td>1</td>\n",
              "      <td>0</td>\n",
              "      <td>0</td>\n",
              "      <td>0</td>\n",
              "      <td>0</td>\n",
              "    </tr>\n",
              "    <tr>\n",
              "      <th>3</th>\n",
              "      <td>56</td>\n",
              "      <td>1</td>\n",
              "      <td>120</td>\n",
              "      <td>236</td>\n",
              "      <td>0</td>\n",
              "      <td>178</td>\n",
              "      <td>0</td>\n",
              "      <td>0.8</td>\n",
              "      <td>1</td>\n",
              "      <td>0</td>\n",
              "      <td>1</td>\n",
              "      <td>0</td>\n",
              "      <td>0</td>\n",
              "      <td>0</td>\n",
              "      <td>1</td>\n",
              "      <td>0</td>\n",
              "      <td>0</td>\n",
              "      <td>0</td>\n",
              "      <td>1</td>\n",
              "      <td>0</td>\n",
              "      <td>0</td>\n",
              "      <td>1</td>\n",
              "      <td>0</td>\n",
              "      <td>1</td>\n",
              "      <td>0</td>\n",
              "      <td>0</td>\n",
              "      <td>0</td>\n",
              "      <td>0</td>\n",
              "    </tr>\n",
              "    <tr>\n",
              "      <th>4</th>\n",
              "      <td>57</td>\n",
              "      <td>0</td>\n",
              "      <td>120</td>\n",
              "      <td>354</td>\n",
              "      <td>0</td>\n",
              "      <td>163</td>\n",
              "      <td>1</td>\n",
              "      <td>0.6</td>\n",
              "      <td>1</td>\n",
              "      <td>1</td>\n",
              "      <td>0</td>\n",
              "      <td>0</td>\n",
              "      <td>0</td>\n",
              "      <td>0</td>\n",
              "      <td>1</td>\n",
              "      <td>0</td>\n",
              "      <td>0</td>\n",
              "      <td>0</td>\n",
              "      <td>1</td>\n",
              "      <td>0</td>\n",
              "      <td>0</td>\n",
              "      <td>1</td>\n",
              "      <td>0</td>\n",
              "      <td>1</td>\n",
              "      <td>0</td>\n",
              "      <td>0</td>\n",
              "      <td>0</td>\n",
              "      <td>0</td>\n",
              "    </tr>\n",
              "  </tbody>\n",
              "</table>\n",
              "</div>"
            ],
            "text/plain": [
              "   age  sex  trestbps  chol  fbs  thalach  ...  thal_3  ca_0  ca_1  ca_2  ca_3  ca_4\n",
              "0   63    1       145   233    1      150  ...       0     1     0     0     0     0\n",
              "1   37    1       130   250    0      187  ...       0     1     0     0     0     0\n",
              "2   41    0       130   204    0      172  ...       0     1     0     0     0     0\n",
              "3   56    1       120   236    0      178  ...       0     1     0     0     0     0\n",
              "4   57    0       120   354    0      163  ...       0     1     0     0     0     0\n",
              "\n",
              "[5 rows x 28 columns]"
            ]
          },
          "metadata": {
            "tags": []
          },
          "execution_count": 96
        }
      ]
    },
    {
      "cell_type": "code",
      "metadata": {
        "id": "SWoIS6SsNbRw",
        "colab_type": "code",
        "colab": {}
      },
      "source": [
        "y = df.target.values\n",
        "x_data = df.drop(['target'], axis = 1)"
      ],
      "execution_count": 51,
      "outputs": []
    },
    {
      "cell_type": "code",
      "metadata": {
        "id": "SoyvlU2CNd6_",
        "colab_type": "code",
        "colab": {}
      },
      "source": [
        "x = (x_data - np.min(x_data)) / (np.max(x_data) - np.min(x_data)).values"
      ],
      "execution_count": 52,
      "outputs": []
    },
    {
      "cell_type": "code",
      "metadata": {
        "id": "V91FOgBSNd_J",
        "colab_type": "code",
        "colab": {}
      },
      "source": [
        "x_train, x_test, y_train, y_test = train_test_split(x,y,test_size = 0.25,random_state=0)"
      ],
      "execution_count": 53,
      "outputs": []
    },
    {
      "cell_type": "code",
      "metadata": {
        "id": "I-THNFUXNeBs",
        "colab_type": "code",
        "colab": {
          "base_uri": "https://localhost:8080/",
          "height": 51
        },
        "outputId": "88c61d2a-dcf1-44bd-f26b-15114bc25969"
      },
      "source": [
        "print(\"Train feature shape\" ,x_train.shape)\n",
        "print(\"Test feature shape\" , x_test.shape)"
      ],
      "execution_count": 54,
      "outputs": [
        {
          "output_type": "stream",
          "text": [
            "Train feature shape (227, 27)\n",
            "Test feature shape (76, 27)\n"
          ],
          "name": "stdout"
        }
      ]
    },
    {
      "cell_type": "code",
      "metadata": {
        "id": "Qw8gDatdVsL0",
        "colab_type": "code",
        "colab": {}
      },
      "source": [
        "accuracies_model={}\n",
        "\n",
        "#Logistic Regression\n",
        "from sklearn.linear_model import LogisticRegression"
      ],
      "execution_count": 97,
      "outputs": []
    },
    {
      "cell_type": "code",
      "metadata": {
        "id": "d-ExwE1xVtaK",
        "colab_type": "code",
        "colab": {
          "base_uri": "https://localhost:8080/",
          "height": 34
        },
        "outputId": "a2023e29-020d-4369-9992-cc02500146cc"
      },
      "source": [
        "lr = LogisticRegression()\n",
        "lr.fit(x_train,y_train)\n",
        "acc = lr.score(x_test,y_test)*100\n",
        "\n",
        "accuracies_model['Logistic Regression']=acc\n",
        "print(\"Test Accuracy of Logistic Regression Algorithm {:.4f}%\".format(acc))"
      ],
      "execution_count": 98,
      "outputs": [
        {
          "output_type": "stream",
          "text": [
            "Test Accuracy of Logistic Regression Algorithm 84.2105%\n"
          ],
          "name": "stdout"
        }
      ]
    },
    {
      "cell_type": "code",
      "metadata": {
        "id": "IuZCI2bAVuhT",
        "colab_type": "code",
        "colab": {
          "base_uri": "https://localhost:8080/",
          "height": 34
        },
        "outputId": "282cf9f8-e111-4e28-a7d2-d1273ebb8224"
      },
      "source": [
        "# Support Vector Machine\n",
        "from sklearn.svm import SVC\n",
        "svm = SVC(random_state = 1)\n",
        "svm.fit(x_train, y_train)\n",
        "\n",
        "acc = svm.score(x_test,y_test)*100\n",
        "accuracies_model['Support Vector Machine']=acc\n",
        "print(\"Test Accuracy of Support Vector Machine Algorithm: {:.4f}%\".format(acc))"
      ],
      "execution_count": 99,
      "outputs": [
        {
          "output_type": "stream",
          "text": [
            "Test Accuracy of Support Vector Machine Algorithm: 84.2105%\n"
          ],
          "name": "stdout"
        }
      ]
    },
    {
      "cell_type": "code",
      "metadata": {
        "id": "3hNcSpRPVv8D",
        "colab_type": "code",
        "colab": {
          "base_uri": "https://localhost:8080/",
          "height": 279
        },
        "outputId": "1154d3d9-a795-4467-b5c6-fd7739554be4"
      },
      "source": [
        "# K-nearest Neighbors\n",
        "from sklearn.neighbors import KNeighborsClassifier\n",
        "X=[]\n",
        "for i in range(1,20):\n",
        "    knn=KNeighborsClassifier(n_neighbors=i)\n",
        "    knn.fit(x_train,y_train)\n",
        "    X.append(knn.score(x_test,y_test))\n",
        "    \n",
        "plt.plot(range(1,20),X)\n",
        "plt.xlabel(\"K-number\")\n",
        "plt.ylabel(\"Score\")\n",
        "plt.show()"
      ],
      "execution_count": 100,
      "outputs": [
        {
          "output_type": "display_data",
          "data": {
            "image/png": "[encoded data removed]",
            "text/plain": [
              "<Figure size 432x288 with 1 Axes>"
            ]
          },
          "metadata": {
            "tags": [],
            "needs_background": "light"
          }
        }
      ]
    },
    {
      "cell_type": "code",
      "metadata": {
        "id": "ZZgvAKgnVxub",
        "colab_type": "code",
        "colab": {
          "base_uri": "https://localhost:8080/",
          "height": 34
        },
        "outputId": "0fbe5eb3-b74e-4ef2-9090-24e95881f13f"
      },
      "source": [
        "bestScore=max(X)*100\n",
        "print(\"K-nearest Neighbors Accuracy =\",format(bestScore))\n",
        "accuracies_model['K-nearest Neighbors']=bestScore"
      ],
      "execution_count": 101,
      "outputs": [
        {
          "output_type": "stream",
          "text": [
            "K-nearest Neighbors Accuracy = 86.8421052631579\n"
          ],
          "name": "stdout"
        }
      ]
    },
    {
      "cell_type": "code",
      "metadata": {
        "id": "Vw3QsrERV0Kq",
        "colab_type": "code",
        "colab": {
          "base_uri": "https://localhost:8080/",
          "height": 34
        },
        "outputId": "92e85d74-f9d3-4a3c-e78c-3f81a38a73bd"
      },
      "source": [
        "#Random forest \n",
        "from sklearn.ensemble import RandomForestClassifier\n",
        "rf = RandomForestClassifier(n_estimators = 3000, random_state = 1)\n",
        "rf.fit(x_train, y_train)\n",
        "\n",
        "acc = rf.score(x_test,y_test)*100\n",
        "accuracies_model['Random Forest']=acc\n",
        "print(\"Random Forest Algorithm Accuracy Score : {:.2f}%\".format(acc))"
      ],
      "execution_count": 102,
      "outputs": [
        {
          "output_type": "stream",
          "text": [
            "Random Forest Algorithm Accuracy Score : 84.21%\n"
          ],
          "name": "stdout"
        }
      ]
    },
    {
      "cell_type": "code",
      "metadata": {
        "id": "ihBA3mQ_A219",
        "colab_type": "code",
        "colab": {}
      },
      "source": [
        "def NN_model(learning_rate):\n",
        "    model = Sequential()\n",
        "    model.add(Dense(32, input_dim=27, kernel_initializer='normal', activation='relu'))\n",
        "    model.add(Dense(16, kernel_initializer='normal', activation='relu'))\n",
        "    model.add(Dense(2, activation='softmax'))\n",
        "    Adam(lr=learning_rate)\n",
        "    model.compile(loss='sparse_categorical_crossentropy', optimizer='Adam', metrics=['accuracy'])\n",
        "    return model"
      ],
      "execution_count": 131,
      "outputs": []
    },
    {
      "cell_type": "code",
      "metadata": {
        "id": "pfwO4DL7N0B5",
        "colab_type": "code",
        "colab": {
          "base_uri": "https://localhost:8080/",
          "height": 272
        },
        "outputId": "3abb3317-a8c0-4f6a-ba68-a8161f7dd462"
      },
      "source": [
        "learning_rate = 0.01\n",
        "model = NN_model(learning_rate)\n",
        "print(model.summary())"
      ],
      "execution_count": 132,
      "outputs": [
        {
          "output_type": "stream",
          "text": [
            "Model: \"sequential_18\"\n",
            "_________________________________________________________________\n",
            "Layer (type)                 Output Shape              Param #   \n",
            "=================================================================\n",
            "dense_50 (Dense)             (None, 32)                896       \n",
            "_________________________________________________________________\n",
            "dense_51 (Dense)             (None, 16)                528       \n",
            "_________________________________________________________________\n",
            "dense_52 (Dense)             (None, 2)                 34        \n",
            "=================================================================\n",
            "Total params: 1,458\n",
            "Trainable params: 1,458\n",
            "Non-trainable params: 0\n",
            "_________________________________________________________________\n",
            "None\n"
          ],
          "name": "stdout"
        }
      ]
    },
    {
      "cell_type": "code",
      "metadata": {
        "id": "B2DSCEKaSXoE",
        "colab_type": "code",
        "colab": {
          "base_uri": "https://localhost:8080/",
          "height": 1000
        },
        "outputId": "119bfbd1-4fa2-45ef-8312-8cfaef5f16c5"
      },
      "source": [
        "\n",
        "\n",
        "history = model.fit(x_train, y_train, validation_data=(x_test, y_test), epochs=100, batch_size=16, verbose=2)\n",
        "\n"
      ],
      "execution_count": 133,
      "outputs": [
        {
          "output_type": "stream",
          "text": [
            "Train on 227 samples, validate on 76 samples\n",
            "Epoch 1/100\n",
            " - 0s - loss: 0.6810 - accuracy: 0.6960 - val_loss: 0.6562 - val_accuracy: 0.7763\n",
            "Epoch 2/100\n",
            " - 0s - loss: 0.6410 - accuracy: 0.8194 - val_loss: 0.6038 - val_accuracy: 0.8421\n",
            "Epoch 3/100\n",
            " - 0s - loss: 0.5854 - accuracy: 0.8194 - val_loss: 0.5320 - val_accuracy: 0.8553\n",
            "Epoch 4/100\n",
            " - 0s - loss: 0.5035 - accuracy: 0.8546 - val_loss: 0.4523 - val_accuracy: 0.8421\n",
            "Epoch 5/100\n",
            " - 0s - loss: 0.4279 - accuracy: 0.8634 - val_loss: 0.3892 - val_accuracy: 0.8421\n",
            "Epoch 6/100\n",
            " - 0s - loss: 0.3854 - accuracy: 0.8634 - val_loss: 0.3571 - val_accuracy: 0.8553\n",
            "Epoch 7/100\n",
            " - 0s - loss: 0.3512 - accuracy: 0.8546 - val_loss: 0.3466 - val_accuracy: 0.8553\n",
            "Epoch 8/100\n",
            " - 0s - loss: 0.3419 - accuracy: 0.8678 - val_loss: 0.3441 - val_accuracy: 0.8553\n",
            "Epoch 9/100\n",
            " - 0s - loss: 0.3291 - accuracy: 0.8634 - val_loss: 0.3467 - val_accuracy: 0.8421\n",
            "Epoch 10/100\n",
            " - 0s - loss: 0.3287 - accuracy: 0.8502 - val_loss: 0.3425 - val_accuracy: 0.8421\n",
            "Epoch 11/100\n",
            " - 0s - loss: 0.3211 - accuracy: 0.8678 - val_loss: 0.3447 - val_accuracy: 0.8421\n",
            "Epoch 12/100\n",
            " - 0s - loss: 0.3180 - accuracy: 0.8678 - val_loss: 0.3467 - val_accuracy: 0.8421\n",
            "Epoch 13/100\n",
            " - 0s - loss: 0.3147 - accuracy: 0.8722 - val_loss: 0.3485 - val_accuracy: 0.8421\n",
            "Epoch 14/100\n",
            " - 0s - loss: 0.3130 - accuracy: 0.8767 - val_loss: 0.3514 - val_accuracy: 0.8421\n",
            "Epoch 15/100\n",
            " - 0s - loss: 0.3088 - accuracy: 0.8678 - val_loss: 0.3531 - val_accuracy: 0.8553\n",
            "Epoch 16/100\n",
            " - 0s - loss: 0.3079 - accuracy: 0.8767 - val_loss: 0.3521 - val_accuracy: 0.8553\n",
            "Epoch 17/100\n",
            " - 0s - loss: 0.3084 - accuracy: 0.8678 - val_loss: 0.3487 - val_accuracy: 0.8553\n",
            "Epoch 18/100\n",
            " - 0s - loss: 0.3022 - accuracy: 0.8678 - val_loss: 0.3485 - val_accuracy: 0.8421\n",
            "Epoch 19/100\n",
            " - 0s - loss: 0.2985 - accuracy: 0.8767 - val_loss: 0.3504 - val_accuracy: 0.8553\n",
            "Epoch 20/100\n",
            " - 0s - loss: 0.2974 - accuracy: 0.8855 - val_loss: 0.3486 - val_accuracy: 0.8553\n",
            "Epoch 21/100\n",
            " - 0s - loss: 0.2973 - accuracy: 0.8767 - val_loss: 0.3531 - val_accuracy: 0.8421\n",
            "Epoch 22/100\n",
            " - 0s - loss: 0.2940 - accuracy: 0.8767 - val_loss: 0.3536 - val_accuracy: 0.8553\n",
            "Epoch 23/100\n",
            " - 0s - loss: 0.2973 - accuracy: 0.8811 - val_loss: 0.3561 - val_accuracy: 0.8684\n",
            "Epoch 24/100\n",
            " - 0s - loss: 0.2906 - accuracy: 0.8767 - val_loss: 0.3577 - val_accuracy: 0.8421\n",
            "Epoch 25/100\n",
            " - 0s - loss: 0.2888 - accuracy: 0.8855 - val_loss: 0.3583 - val_accuracy: 0.8684\n",
            "Epoch 26/100\n",
            " - 0s - loss: 0.2874 - accuracy: 0.8899 - val_loss: 0.3592 - val_accuracy: 0.8684\n",
            "Epoch 27/100\n",
            " - 0s - loss: 0.2836 - accuracy: 0.8767 - val_loss: 0.3565 - val_accuracy: 0.8553\n",
            "Epoch 28/100\n",
            " - 0s - loss: 0.2856 - accuracy: 0.8899 - val_loss: 0.3589 - val_accuracy: 0.8684\n",
            "Epoch 29/100\n",
            " - 0s - loss: 0.2855 - accuracy: 0.8767 - val_loss: 0.3577 - val_accuracy: 0.8553\n",
            "Epoch 30/100\n",
            " - 0s - loss: 0.2888 - accuracy: 0.8855 - val_loss: 0.3607 - val_accuracy: 0.8553\n",
            "Epoch 31/100\n",
            " - 0s - loss: 0.2739 - accuracy: 0.9031 - val_loss: 0.3518 - val_accuracy: 0.8684\n",
            "Epoch 32/100\n",
            " - 0s - loss: 0.2794 - accuracy: 0.8987 - val_loss: 0.3494 - val_accuracy: 0.8816\n",
            "Epoch 33/100\n",
            " - 0s - loss: 0.2805 - accuracy: 0.8987 - val_loss: 0.3532 - val_accuracy: 0.8816\n",
            "Epoch 34/100\n",
            " - 0s - loss: 0.2740 - accuracy: 0.8943 - val_loss: 0.3556 - val_accuracy: 0.8947\n",
            "Epoch 35/100\n",
            " - 0s - loss: 0.2739 - accuracy: 0.8987 - val_loss: 0.3585 - val_accuracy: 0.8684\n",
            "Epoch 36/100\n",
            " - 0s - loss: 0.2704 - accuracy: 0.8943 - val_loss: 0.3554 - val_accuracy: 0.8816\n",
            "Epoch 37/100\n",
            " - 0s - loss: 0.2703 - accuracy: 0.8943 - val_loss: 0.3557 - val_accuracy: 0.8684\n",
            "Epoch 38/100\n",
            " - 0s - loss: 0.2681 - accuracy: 0.8987 - val_loss: 0.3583 - val_accuracy: 0.8684\n",
            "Epoch 39/100\n",
            " - 0s - loss: 0.2656 - accuracy: 0.8987 - val_loss: 0.3573 - val_accuracy: 0.8684\n",
            "Epoch 40/100\n",
            " - 0s - loss: 0.2669 - accuracy: 0.8987 - val_loss: 0.3609 - val_accuracy: 0.8684\n",
            "Epoch 41/100\n",
            " - 0s - loss: 0.2681 - accuracy: 0.8987 - val_loss: 0.3675 - val_accuracy: 0.8684\n",
            "Epoch 42/100\n",
            " - 0s - loss: 0.2710 - accuracy: 0.8987 - val_loss: 0.3656 - val_accuracy: 0.8684\n",
            "Epoch 43/100\n",
            " - 0s - loss: 0.2646 - accuracy: 0.9031 - val_loss: 0.3626 - val_accuracy: 0.8947\n",
            "Epoch 44/100\n",
            " - 0s - loss: 0.2641 - accuracy: 0.9119 - val_loss: 0.3634 - val_accuracy: 0.8684\n",
            "Epoch 45/100\n",
            " - 0s - loss: 0.2579 - accuracy: 0.8987 - val_loss: 0.3640 - val_accuracy: 0.8947\n",
            "Epoch 46/100\n",
            " - 0s - loss: 0.2657 - accuracy: 0.9031 - val_loss: 0.3608 - val_accuracy: 0.8816\n",
            "Epoch 47/100\n",
            " - 0s - loss: 0.2586 - accuracy: 0.9075 - val_loss: 0.3591 - val_accuracy: 0.8816\n",
            "Epoch 48/100\n",
            " - 0s - loss: 0.2526 - accuracy: 0.9075 - val_loss: 0.3613 - val_accuracy: 0.8947\n",
            "Epoch 49/100\n",
            " - 0s - loss: 0.2561 - accuracy: 0.8987 - val_loss: 0.3648 - val_accuracy: 0.8947\n",
            "Epoch 50/100\n",
            " - 0s - loss: 0.2499 - accuracy: 0.9163 - val_loss: 0.3690 - val_accuracy: 0.8816\n",
            "Epoch 51/100\n",
            " - 0s - loss: 0.2508 - accuracy: 0.9119 - val_loss: 0.3668 - val_accuracy: 0.8684\n",
            "Epoch 52/100\n",
            " - 0s - loss: 0.2493 - accuracy: 0.9075 - val_loss: 0.3705 - val_accuracy: 0.8684\n",
            "Epoch 53/100\n",
            " - 0s - loss: 0.2467 - accuracy: 0.9075 - val_loss: 0.3706 - val_accuracy: 0.8684\n",
            "Epoch 54/100\n",
            " - 0s - loss: 0.2478 - accuracy: 0.9075 - val_loss: 0.3708 - val_accuracy: 0.8684\n",
            "Epoch 55/100\n",
            " - 0s - loss: 0.2479 - accuracy: 0.9075 - val_loss: 0.3720 - val_accuracy: 0.8816\n",
            "Epoch 56/100\n",
            " - 0s - loss: 0.2442 - accuracy: 0.9075 - val_loss: 0.3719 - val_accuracy: 0.8816\n",
            "Epoch 57/100\n",
            " - 0s - loss: 0.2397 - accuracy: 0.9119 - val_loss: 0.3753 - val_accuracy: 0.8684\n",
            "Epoch 58/100\n",
            " - 0s - loss: 0.2418 - accuracy: 0.9119 - val_loss: 0.3764 - val_accuracy: 0.8684\n",
            "Epoch 59/100\n",
            " - 0s - loss: 0.2452 - accuracy: 0.9119 - val_loss: 0.3759 - val_accuracy: 0.8684\n",
            "Epoch 60/100\n",
            " - 0s - loss: 0.2450 - accuracy: 0.9119 - val_loss: 0.3755 - val_accuracy: 0.8684\n",
            "Epoch 61/100\n",
            " - 0s - loss: 0.2424 - accuracy: 0.9031 - val_loss: 0.3769 - val_accuracy: 0.8684\n",
            "Epoch 62/100\n",
            " - 0s - loss: 0.2340 - accuracy: 0.9119 - val_loss: 0.3750 - val_accuracy: 0.8816\n",
            "Epoch 63/100\n",
            " - 0s - loss: 0.2325 - accuracy: 0.9119 - val_loss: 0.3756 - val_accuracy: 0.8816\n",
            "Epoch 64/100\n",
            " - 0s - loss: 0.2317 - accuracy: 0.9119 - val_loss: 0.3803 - val_accuracy: 0.8684\n",
            "Epoch 65/100\n",
            " - 0s - loss: 0.2307 - accuracy: 0.9119 - val_loss: 0.3823 - val_accuracy: 0.8684\n",
            "Epoch 66/100\n",
            " - 0s - loss: 0.2293 - accuracy: 0.9119 - val_loss: 0.3811 - val_accuracy: 0.8684\n",
            "Epoch 67/100\n",
            " - 0s - loss: 0.2273 - accuracy: 0.9119 - val_loss: 0.3764 - val_accuracy: 0.8816\n",
            "Epoch 68/100\n",
            " - 0s - loss: 0.2280 - accuracy: 0.9251 - val_loss: 0.3793 - val_accuracy: 0.8816\n",
            "Epoch 69/100\n",
            " - 0s - loss: 0.2276 - accuracy: 0.9163 - val_loss: 0.3814 - val_accuracy: 0.8684\n",
            "Epoch 70/100\n",
            " - 0s - loss: 0.2293 - accuracy: 0.9163 - val_loss: 0.3829 - val_accuracy: 0.8816\n",
            "Epoch 71/100\n",
            " - 0s - loss: 0.2280 - accuracy: 0.9207 - val_loss: 0.3836 - val_accuracy: 0.8684\n",
            "Epoch 72/100\n",
            " - 0s - loss: 0.2225 - accuracy: 0.9207 - val_loss: 0.3787 - val_accuracy: 0.8684\n",
            "Epoch 73/100\n",
            " - 0s - loss: 0.2231 - accuracy: 0.9119 - val_loss: 0.3809 - val_accuracy: 0.8684\n",
            "Epoch 74/100\n",
            " - 0s - loss: 0.2180 - accuracy: 0.9163 - val_loss: 0.3806 - val_accuracy: 0.8684\n",
            "Epoch 75/100\n",
            " - 0s - loss: 0.2186 - accuracy: 0.9119 - val_loss: 0.3811 - val_accuracy: 0.8816\n",
            "Epoch 76/100\n",
            " - 0s - loss: 0.2158 - accuracy: 0.9163 - val_loss: 0.3820 - val_accuracy: 0.8684\n",
            "Epoch 77/100\n",
            " - 0s - loss: 0.2157 - accuracy: 0.9339 - val_loss: 0.3808 - val_accuracy: 0.8553\n",
            "Epoch 78/100\n",
            " - 0s - loss: 0.2142 - accuracy: 0.9075 - val_loss: 0.3830 - val_accuracy: 0.8553\n",
            "Epoch 79/100\n",
            " - 0s - loss: 0.2104 - accuracy: 0.9339 - val_loss: 0.3846 - val_accuracy: 0.8684\n",
            "Epoch 80/100\n",
            " - 0s - loss: 0.2096 - accuracy: 0.9207 - val_loss: 0.3819 - val_accuracy: 0.8684\n",
            "Epoch 81/100\n",
            " - 0s - loss: 0.2117 - accuracy: 0.9339 - val_loss: 0.3825 - val_accuracy: 0.8684\n",
            "Epoch 82/100\n",
            " - 0s - loss: 0.2079 - accuracy: 0.9207 - val_loss: 0.3792 - val_accuracy: 0.8684\n",
            "Epoch 83/100\n",
            " - 0s - loss: 0.2035 - accuracy: 0.9207 - val_loss: 0.3905 - val_accuracy: 0.8553\n",
            "Epoch 84/100\n",
            " - 0s - loss: 0.2047 - accuracy: 0.9427 - val_loss: 0.3867 - val_accuracy: 0.8684\n",
            "Epoch 85/100\n",
            " - 0s - loss: 0.2008 - accuracy: 0.9163 - val_loss: 0.3872 - val_accuracy: 0.8684\n",
            "Epoch 86/100\n",
            " - 0s - loss: 0.1983 - accuracy: 0.9207 - val_loss: 0.3898 - val_accuracy: 0.8684\n",
            "Epoch 87/100\n",
            " - 0s - loss: 0.1960 - accuracy: 0.9471 - val_loss: 0.3915 - val_accuracy: 0.8553\n",
            "Epoch 88/100\n",
            " - 0s - loss: 0.1962 - accuracy: 0.9471 - val_loss: 0.3909 - val_accuracy: 0.8684\n",
            "Epoch 89/100\n",
            " - 0s - loss: 0.1977 - accuracy: 0.9207 - val_loss: 0.3962 - val_accuracy: 0.8553\n",
            "Epoch 90/100\n",
            " - 0s - loss: 0.1999 - accuracy: 0.9383 - val_loss: 0.3946 - val_accuracy: 0.8684\n",
            "Epoch 91/100\n",
            " - 0s - loss: 0.1959 - accuracy: 0.9207 - val_loss: 0.3953 - val_accuracy: 0.8684\n",
            "Epoch 92/100\n",
            " - 0s - loss: 0.1911 - accuracy: 0.9427 - val_loss: 0.3990 - val_accuracy: 0.8553\n",
            "Epoch 93/100\n",
            " - 0s - loss: 0.1891 - accuracy: 0.9471 - val_loss: 0.3969 - val_accuracy: 0.8684\n",
            "Epoch 94/100\n",
            " - 0s - loss: 0.1889 - accuracy: 0.9515 - val_loss: 0.3975 - val_accuracy: 0.8684\n",
            "Epoch 95/100\n",
            " - 0s - loss: 0.1865 - accuracy: 0.9383 - val_loss: 0.4020 - val_accuracy: 0.8553\n",
            "Epoch 96/100\n",
            " - 0s - loss: 0.1832 - accuracy: 0.9515 - val_loss: 0.4054 - val_accuracy: 0.8553\n",
            "Epoch 97/100\n",
            " - 0s - loss: 0.1834 - accuracy: 0.9471 - val_loss: 0.4056 - val_accuracy: 0.8684\n",
            "Epoch 98/100\n",
            " - 0s - loss: 0.1811 - accuracy: 0.9471 - val_loss: 0.4098 - val_accuracy: 0.8553\n",
            "Epoch 99/100\n",
            " - 0s - loss: 0.1806 - accuracy: 0.9559 - val_loss: 0.4061 - val_accuracy: 0.8553\n",
            "Epoch 100/100\n",
            " - 0s - loss: 0.1781 - accuracy: 0.9515 - val_loss: 0.4044 - val_accuracy: 0.8553\n"
          ],
          "name": "stdout"
        }
      ]
    },
    {
      "cell_type": "code",
      "metadata": {
        "id": "DYnvim3XTS1K",
        "colab_type": "code",
        "colab": {
          "base_uri": "https://localhost:8080/",
          "height": 573
        },
        "outputId": "562d2441-94c0-4d83-9ea6-7380c25ec474"
      },
      "source": [
        "# Plot the model accuracy vs. number of Epochs\n",
        "plt.plot(history.history['accuracy'])\n",
        "plt.plot(history.history['val_accuracy'])\n",
        "plt.title('Model Accuracy')\n",
        "plt.ylabel('Accuracy')\n",
        "plt.xlabel('Epochs')\n",
        "plt.legend(['Train', 'Test'])\n",
        "plt.show()\n",
        "\n",
        "# Plot the Loss function vs. number of Epochs\n",
        "plt.plot(history.history['loss'])\n",
        "plt.plot(history.history['val_loss'])\n",
        "plt.title('Model Loss')\n",
        "plt.ylabel('Loss')\n",
        "plt.xlabel('Epochs')\n",
        "plt.legend(['Train', 'Test'])\n",
        "plt.show()"
      ],
      "execution_count": 134,
      "outputs": [
        {
          "output_type": "display_data",
          "data": {
            "image/png": "[encoded data removed]",
            "text/plain": [
              "<Figure size 432x288 with 1 Axes>"
            ]
          },
          "metadata": {
            "tags": [],
            "needs_background": "light"
          }
        },
        {
          "output_type": "display_data",
          "data": {
            "image/png": "[encoded data removed]",
            "text/plain": [
              "<Figure size 432x288 with 1 Axes>"
            ]
          },
          "metadata": {
            "tags": [],
            "needs_background": "light"
          }
        }
      ]
    },
    {
      "cell_type": "code",
      "metadata": {
        "id": "aE__JHnqT2Mx",
        "colab_type": "code",
        "colab": {
          "base_uri": "https://localhost:8080/",
          "height": 34
        },
        "outputId": "7425bef5-cf07-40a7-9b15-6098774196e2"
      },
      "source": [
        "from sklearn.metrics import  accuracy_score\n",
        "predictions = np.argmax(model.predict(x_test), axis=1)\n",
        "model_accuracy = accuracy_score(y_test, predictions)*100\n",
        "accuracies_model['neural network']=model_accuracy\n",
        "print(\"Model Accuracy:\", model_accuracy,\"%\")"
      ],
      "execution_count": 135,
      "outputs": [
        {
          "output_type": "stream",
          "text": [
            "Model Accuracy: 85.52631578947368 %\n"
          ],
          "name": "stdout"
        }
      ]
    },
    {
      "cell_type": "code",
      "metadata": {
        "id": "dsHNk0q7V57r",
        "colab_type": "code",
        "colab": {
          "base_uri": "https://localhost:8080/",
          "height": 334
        },
        "outputId": "e9fc5c66-d0e8-4c84-e635-e3a694030db4"
      },
      "source": [
        "plt.figure(figsize=(12,5))\n",
        "plt.ylabel(\"Accuracy %\")\n",
        "plt.xlabel(\"Algorithms\")\n",
        "sns.barplot(x=list(accuracies_model.keys()), y=list(accuracies_model.values()))\n",
        "plt.show()"
      ],
      "execution_count": 136,
      "outputs": [
        {
          "output_type": "display_data",
          "data": {
            "image/png": "[encoded data removed]",
            "text/plain": [
              "<Figure size 864x360 with 1 Axes>"
            ]
          },
          "metadata": {
            "tags": [],
            "needs_background": "light"
          }
        }
      ]
    },
    {
      "cell_type": "code",
      "metadata": {
        "id": "Xkoy8eJ-WJ8q",
        "colab_type": "code",
        "colab": {}
      },
      "source": [
        "y_head_lr = lr.predict(x_test)\n",
        "y_head_svm=svm.predict(x_test)\n",
        "knn2=KNeighborsClassifier(n_neighbors=6)\n",
        "knn2.fit(x_train,y_train)\n",
        "\n",
        "y_head_knn=knn2.predict(x_test)\n",
        "\n",
        "y_head_rf=rf.predict(x_test)"
      ],
      "execution_count": 137,
      "outputs": []
    },
    {
      "cell_type": "code",
      "metadata": {
        "id": "pvLNog0MWLSE",
        "colab_type": "code",
        "colab": {}
      },
      "source": [
        "from sklearn.metrics import confusion_matrix\n",
        "\n",
        "cm_lr = confusion_matrix(y_test,y_head_lr)\n",
        "cm_svm = confusion_matrix(y_test,y_head_svm)\n",
        "cm_knn = confusion_matrix(y_test,y_head_knn)\n",
        "cm_rf =  confusion_matrix(y_test,y_head_rf)\n",
        "cm_neural = confusion_matrix(y_test,predictions)"
      ],
      "execution_count": 138,
      "outputs": []
    },
    {
      "cell_type": "code",
      "metadata": {
        "id": "PgUUgHzOWMjr",
        "colab_type": "code",
        "colab": {
          "base_uri": "https://localhost:8080/",
          "height": 1000
        },
        "outputId": "6fe0884e-4bee-4499-a489-7fcee21a8262"
      },
      "source": [
        "plt.figure(figsize=(14,18))\n",
        "\n",
        "plt.suptitle(\"Confusion Matrixes\",fontsize=25)\n",
        "\n",
        "\n",
        "plt.subplot(3,2,1)\n",
        "plt.title(\"Logistic Regression Confusion Matrix\")\n",
        "sns.heatmap(cm_lr,annot=True,cmap=\"summer\",fmt=\"d\",cbar=False, annot_kws={\"size\": 24})\n",
        "\n",
        "\n",
        "plt.subplot(3,2,2)\n",
        "plt.title(\"Support Vector Machine Confusion Matrix\")\n",
        "sns.heatmap(cm_svm,annot=True,cmap=\"summer\",fmt=\"d\",cbar=False, annot_kws={\"size\": 24})\n",
        "\n",
        "plt.subplot(3,2,3)\n",
        "plt.title(\"K-nearest Neighbors Confusion Matrix\")\n",
        "sns.heatmap(cm_knn,annot=True,cmap=\"summer\",fmt=\"d\",cbar=False, annot_kws={\"size\": 24})\n",
        "\n",
        "plt.subplot(3,2,4)\n",
        "plt.title(\"Random Forest Confusion Matrix\")\n",
        "sns.heatmap(cm_rf,annot=True,cmap=\"summer\",fmt=\"d\",cbar=False, annot_kws={\"size\": 24})\n",
        "\n",
        "plt.subplot(3,2,5)\n",
        "plt.title(\"neural network Confusion Matrix\")\n",
        "sns.heatmap(cm_neural,annot=True,cmap=\"summer\",fmt=\"d\",cbar=False, annot_kws={\"size\": 24})"
      ],
      "execution_count": 139,
      "outputs": [
        {
          "output_type": "execute_result",
          "data": {
            "text/plain": [
              "<matplotlib.axes._subplots.AxesSubplot at 0x7f285f0069e8>"
            ]
          },
          "metadata": {
            "tags": []
          },
          "execution_count": 139
        },
        {
          "output_type": "display_data",
          "data": {
            "image/png": "[encoded data removed]",
            "text/plain": [
              "<Figure size 1008x1296 with 5 Axes>"
            ]
          },
          "metadata": {
            "tags": [],
            "needs_background": "light"
          }
        }
      ]
    }
  ]
}